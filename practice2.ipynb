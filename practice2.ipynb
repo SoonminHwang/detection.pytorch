{
 "cells": [
  {
   "cell_type": "markdown",
   "metadata": {},
   "source": [
    "# 물체 검출 결과 평가 방법 이해하기\n",
    "성능 평가 코드를 이해하고 분석하여 precision-recall curve에서 주어진 recall값에 대한 threshold 값을 계산합니다.<br/>\n",
    "구해진 threshold값을 이용하여 검출 결과를 출력합니다."
   ]
  },
  {
   "cell_type": "code",
   "execution_count": 4,
   "metadata": {},
   "outputs": [],
   "source": [
    "\"\"\"Adapted from:\n",
    "    @longcw faster_rcnn_pytorch: https://github.com/longcw/faster_rcnn_pytorch\n",
    "    @rbgirshick py-faster-rcnn https://github.com/rbgirshick/py-faster-rcnn\n",
    "    Licensed under The MIT License [see LICENSE for details]\n",
    "\"\"\"\n",
    "\n",
    "from __future__ import print_function\n",
    "import torch\n",
    "import torch.nn as nn\n",
    "import torch.backends.cudnn as cudnn\n",
    "from torch.autograd import Variable\n",
    "from data import VOC_ROOT, VOCAnnotationTransform, VOCDetection, BaseTransform\n",
    "import torch.utils.data as data\n",
    "from utils import Timer\n",
    "from ssd import build_ssd\n",
    "\n",
    "import sys\n",
    "import os\n",
    "import time\n",
    "import argparse\n",
    "import numpy as np\n",
    "import pickle\n",
    "import cv2\n",
    "\n",
    "# %matplotlib inline\n",
    "from matplotlib import pyplot as plt\n",
    "\n",
    "import xml.etree.ElementTree as ET\n",
    "\n",
    "labelmap = (  # always index 0\n",
    "    'aeroplane', 'bicycle', 'bird', 'boat',\n",
    "    'bottle', 'bus', 'car', 'cat', 'chair',\n",
    "    'cow', 'diningtable', 'dog', 'horse',\n",
    "    'motorbike', 'person', 'pottedplant',\n",
    "    'sheep', 'sofa', 'train', 'tvmonitor')\n",
    "\n",
    "annopath = os.path.join(VOC_ROOT, 'VOC2007', 'Annotations', '%s.xml')\n",
    "imgpath = os.path.join(VOC_ROOT, 'VOC2007', 'JPEGImages', '%s.jpg')\n",
    "imgsetpath = os.path.join(VOC_ROOT, 'VOC2007', 'ImageSets', 'Main', '{:s}.txt')\n",
    "YEAR = '2007'\n",
    "devkit_path = VOC_ROOT + 'VOC' + YEAR\n",
    "dataset_mean = (104, 117, 123)\n",
    "\n",
    "if torch.cuda.is_available():    \n",
    "    torch.set_default_tensor_type('torch.cuda.FloatTensor')    \n",
    "else:\n",
    "    torch.set_default_tensor_type('torch.FloatTensor')    "
   ]
  },
  {
   "cell_type": "code",
   "execution_count": 5,
   "metadata": {},
   "outputs": [
    {
     "name": "stdout",
     "output_type": "stream",
     "text": [
      "Loading weights into state dict...\n",
      "Finished!\n",
      "Finished loading model!\n"
     ]
    }
   ],
   "source": [
    "### load net\n",
    "num_classes = len(labelmap) + 1                      # +1 for background\n",
    "net = build_ssd('vgg16', 300, 21)    # initialize SSD\n",
    "# net.load_state_dict(torch.load(args.trained_model))\n",
    "net.load_weights('weights/ssd300_mAP_77.43_v2.pth')\n",
    "# net.load_state_dict(torch.load(args.trained_model, map_location='cpu'))\n",
    "net.eval()\n",
    "print('Finished loading model!')\n",
    "\n",
    "### load data\n",
    "set_type = 'test'\n",
    "dataset = VOCDetection(VOC_ROOT, [('2007', set_type)],\n",
    "                       BaseTransform(300, dataset_mean),\n",
    "                       VOCAnnotationTransform())\n",
    "if torch.cuda.is_available():\n",
    "    net = net.cuda()\n",
    "    cudnn.benchmark = True"
   ]
  },
  {
   "cell_type": "code",
   "execution_count": 6,
   "metadata": {},
   "outputs": [
    {
     "name": "stdout",
     "output_type": "stream",
     "text": [
      "Load from ssd300_results/test/detections.pkl.\n"
     ]
    }
   ],
   "source": [
    "save_folder = 'ssd300_results'\n",
    "top_k = 10\n",
    "\n",
    "from layers import Detect\n",
    "\n",
    "num_images = len(dataset)\n",
    "parser = Detect(num_classes, 0, 200, 0.01, 0.45)\n",
    "softmax = nn.Softmax(dim=-1)\n",
    "\n",
    "# all detections are collected into:\n",
    "#    all_boxes[cls] = N x 6 array of detections in\n",
    "#    (x1, y1, x2, y2, score, ids)\n",
    "all_boxes =[np.zeros((0,6)) for _ in range(len(labelmap)+1)]\n",
    "\n",
    "# timers\n",
    "_t = {'forward': Timer(), 'misc': Timer()}    \n",
    "        \n",
    "output_dir = os.path.join(save_folder, set_type)\n",
    "if not os.path.exists(output_dir):\n",
    "    os.makedirs(output_dir)\n",
    "det_file = os.path.join(output_dir, 'detections.pkl')\n",
    "\n",
    "if not os.path.exists(det_file):\n",
    "    for i in range(num_images):    \n",
    "        im, gt, h, w, ids = dataset.pull_item_with_index(i)\n",
    "\n",
    "        x = im.unsqueeze(0)\n",
    "        if torch.cuda.is_available():\n",
    "            x = x.cuda()\n",
    "\n",
    "        _t['forward'].tic()\n",
    "        with torch.no_grad():    \n",
    "            loc_pred, cls_pred, priors = net(x)            \n",
    "        forward_time = _t['forward'].toc(average=True)    \n",
    "\n",
    "        _t['misc'].tic()\n",
    "        detections = parser(loc_pred, softmax(cls_pred), priors.type(type(x)))                \n",
    "        # skip j = 0, because it's the background class\n",
    "        for j in range(1, detections.size(1)):\n",
    "            dets = detections[0, j, :]\n",
    "            mask = dets[:, 0].gt(0.).expand(5, dets.size(0)).t()\n",
    "            dets = torch.masked_select(dets, mask).view(-1, 5)\n",
    "            if dets.shape[0] == 0:\n",
    "                continue\n",
    "            boxes = dets[:, 1:]\n",
    "            boxes[:, 0] *= w\n",
    "            boxes[:, 2] *= w\n",
    "            boxes[:, 1] *= h\n",
    "            boxes[:, 3] *= h\n",
    "            scores = dets[:, 0].cpu().numpy()\n",
    "\n",
    "            ids_dets = ids*np.ones( (len(scores),1) )\n",
    "            cls_dets = np.hstack(\n",
    "                (boxes.cpu().numpy(),\\\n",
    "                 scores[:, np.newaxis], \\\n",
    "                 ids_dets\n",
    "                )).astype(np.float32, copy=False)                \n",
    "            all_boxes[j] = np.vstack( (all_boxes[j], cls_dets) )\n",
    "            \n",
    "        misc_time = _t['misc'].toc(average=True)\n",
    "        \n",
    "        if i % 100 == 0:\n",
    "            print('[im_detect: {:d}/{:d}] forward: {:.3f}s, misc: {:.3f}s'.format(i+1, num_images, forward_time, misc_time))\n",
    "            \n",
    "#     for j in range(num_images):\n",
    "#         all_boxes[j] = np.array(all_boxes[j])\n",
    "\n",
    "    with open(det_file, 'wb') as f:\n",
    "        pickle.dump(all_boxes, f, pickle.HIGHEST_PROTOCOL)    \n",
    "        \n",
    "    print('Saved to {:}.'.format(det_file))\n",
    "else:\n",
    "    with open(det_file, 'rb') as f:\n",
    "        all_boxes = pickle.load(f)    \n",
    "    print('Load from {:}.'.format(det_file))\n",
    "        \n"
   ]
  },
  {
   "cell_type": "code",
   "execution_count": 7,
   "metadata": {},
   "outputs": [],
   "source": [
    "def parse_rec(filename):\n",
    "    \"\"\" Parse a PASCAL VOC xml file \"\"\"\n",
    "    tree = ET.parse(filename)\n",
    "    objects = []\n",
    "    for obj in tree.findall('object'):\n",
    "        obj_struct = {}\n",
    "        obj_struct['name'] = obj.find('name').text\n",
    "        obj_struct['pose'] = obj.find('pose').text\n",
    "        obj_struct['truncated'] = int(obj.find('truncated').text)\n",
    "        obj_struct['difficult'] = int(obj.find('difficult').text)\n",
    "        bbox = obj.find('bndbox')\n",
    "        obj_struct['bbox'] = [int(bbox.find('xmin').text) - 1,\n",
    "                              int(bbox.find('ymin').text) - 1,\n",
    "                              int(bbox.find('xmax').text) - 1,\n",
    "                              int(bbox.find('ymax').text) - 1]\n",
    "        objects.append(obj_struct)\n",
    "\n",
    "    return objects"
   ]
  },
  {
   "cell_type": "code",
   "execution_count": 19,
   "metadata": {},
   "outputs": [],
   "source": [
    "def voc_eval(det_boxes, annopath, imagesetfile, classname, cachedir,\n",
    "             ovthresh=0.5, use_07_metric=True):\n",
    "    \"\"\"rec, prec, ap = voc_eval(detpath,\n",
    "                           annopath,\n",
    "                           imagesetfile,\n",
    "                           classname,\n",
    "                           [ovthresh],\n",
    "                           [use_07_metric])\n",
    "Top level function that does the PASCAL VOC evaluation.\n",
    "detpath: Path to detections\n",
    "   detpath.format(classname) should produce the detection results file.\n",
    "annopath: Path to annotations\n",
    "   annopath.format(imagename) should be the xml annotations file.\n",
    "imagesetfile: Text file containing the list of images, one image per line.\n",
    "classname: Category name (duh)\n",
    "cachedir: Directory for caching the annotations\n",
    "[ovthresh]: Overlap threshold (default = 0.5)\n",
    "[use_07_metric]: Whether to use VOC07's 11 point AP computation\n",
    "   (default True)\n",
    "\"\"\"\n",
    "# assumes detections are in detpath.format(classname)\n",
    "# assumes annotations are in annopath.format(imagename)\n",
    "# assumes imagesetfile is a text file with each line an image name\n",
    "# cachedir caches the annotations in a pickle file\n",
    "# first load gt\n",
    "    if not os.path.isdir(cachedir):\n",
    "        os.mkdir(cachedir)\n",
    "    cachefile = os.path.join(cachedir, 'annots.pkl')\n",
    "    # read list of images\n",
    "    with open(imagesetfile, 'r') as f:\n",
    "        lines = f.readlines()\n",
    "    imagenames = [x.strip() for x in lines]\n",
    "    if not os.path.isfile(cachefile):\n",
    "        # load annots\n",
    "        recs = {}\n",
    "        for i, imagename in enumerate(imagenames):\n",
    "            recs[imagename] = parse_rec(annopath % (imagename))\n",
    "            if i % 100 == 0:\n",
    "                print('Reading annotation for {:d}/{:d}'.format(\n",
    "                   i + 1, len(imagenames)))\n",
    "        # save\n",
    "        print('Saving cached annotations to {:s}'.format(cachefile))\n",
    "        with open(cachefile, 'wb') as f:\n",
    "            pickle.dump(recs, f)\n",
    "    else:\n",
    "        # load\n",
    "        with open(cachefile, 'rb') as f:\n",
    "            recs = pickle.load(f)\n",
    "\n",
    "    # extract gt objects for this class\n",
    "    class_recs = {}\n",
    "    npos = 0\n",
    "    for imagename in imagenames:\n",
    "        R = [obj for obj in recs[imagename] if obj['name'] == classname]\n",
    "        bbox = np.array([x['bbox'] for x in R])\n",
    "        difficult = np.array([x['difficult'] for x in R]).astype(np.bool)\n",
    "        det = [False] * len(R)\n",
    "        npos = npos + sum(~difficult)\n",
    "        class_recs[imagename] = {'bbox': bbox,\n",
    "                                 'difficult': difficult,\n",
    "                                 'det': det}\n",
    "\n",
    "    import pdb\n",
    "    pdb.set_trace()\n",
    "    \n",
    "    # read dets\n",
    "#     detfile = detpath.format(classname)\n",
    "#     with open(detfile, 'r') as f:\n",
    "#         lines = f.readlines()\n",
    "\n",
    "    if len(det_boxes):\n",
    "        \n",
    "#         import pdb\n",
    "#         pdb.set_trace()\n",
    "    \n",
    "        BB = det_boxes[:,:4]\n",
    "        confidence = det_boxes[:,4]\n",
    "        image_ids = det_boxes[:,5]        \n",
    "\n",
    "        # sort by confidence\n",
    "        sorted_ind = np.argsort(-confidence)\n",
    "        sorted_scores = np.sort(-confidence)\n",
    "        BB = BB[sorted_ind, :]\n",
    "        image_ids = [image_ids[x] for x in sorted_ind]\n",
    "\n",
    "        # go down dets and mark TPs and FPs\n",
    "        nd = len(image_ids)\n",
    "        tp = np.zeros(nd)\n",
    "        fp = np.zeros(nd)\n",
    "        for d in range(nd):\n",
    "            R = class_recs['%06d'%int(image_ids[d])]\n",
    "            bb = BB[d, :].astype(float)\n",
    "            ovmax = -np.inf\n",
    "            BBGT = R['bbox'].astype(float)\n",
    "            if BBGT.size > 0:\n",
    "                # compute overlaps\n",
    "                # intersection\n",
    "                ixmin = np.maximum(BBGT[:, 0], bb[0])\n",
    "                iymin = np.maximum(BBGT[:, 1], bb[1])\n",
    "                ixmax = np.minimum(BBGT[:, 2], bb[2])\n",
    "                iymax = np.minimum(BBGT[:, 3], bb[3])\n",
    "                iw = np.maximum(ixmax - ixmin, 0.)\n",
    "                ih = np.maximum(iymax - iymin, 0.)\n",
    "                inters = iw * ih\n",
    "                uni = ((bb[2] - bb[0]) * (bb[3] - bb[1]) +\n",
    "                       (BBGT[:, 2] - BBGT[:, 0]) *\n",
    "                       (BBGT[:, 3] - BBGT[:, 1]) - inters)\n",
    "                overlaps = inters / uni\n",
    "                ovmax = np.max(overlaps)\n",
    "                jmax = np.argmax(overlaps)\n",
    "\n",
    "            if ovmax > ovthresh:\n",
    "                if not R['difficult'][jmax]:   # if matched GT is difficult, detected box will be ignored.\n",
    "                    if not R['det'][jmax]:     # check duplicated detection.\n",
    "                        tp[d] = 1.\n",
    "                        R['det'][jmax] = 1\n",
    "                    else:\n",
    "                        fp[d] = 1.             # if so, detected box will be considered as false positive.\n",
    "            else:\n",
    "                fp[d] = 1.                     # if the detected box is not matched to any GT boxes, false positive.\n",
    "\n",
    "        # compute precision recall\n",
    "        fp = np.cumsum(fp)\n",
    "        tp = np.cumsum(tp)\n",
    "        rec = tp / float(npos)\n",
    "        # avoid divide by zero in case the first detection matches a difficult\n",
    "        # ground truth\n",
    "        prec = tp / np.maximum(tp + fp, np.finfo(np.float64).eps)\n",
    "#         ap = voc_ap(rec, prec, use_07_metric)\n",
    "\n",
    "        # 11 point metric\n",
    "        ap = 0.\n",
    "        for t in np.arange(0., 1.1, 0.1):    # recall thresholds\n",
    "            if np.sum(rec >= t) == 0:\n",
    "                p = 0\n",
    "            else:\n",
    "                p = np.max(prec[rec >= t])\n",
    "            ap = ap + p / 11.\n",
    "    else:\n",
    "        rec = -1.\n",
    "        prec = -1.\n",
    "        ap = -1.\n",
    "\n",
    "    return rec, prec, ap\n"
   ]
  },
  {
   "cell_type": "code",
   "execution_count": 40,
   "metadata": {},
   "outputs": [
    {
     "name": "stdout",
     "output_type": "stream",
     "text": [
      "> <ipython-input-19-9ad02a5f6b14>(71)voc_eval()\n",
      "-> if len(det_boxes):\n"
     ]
    },
    {
     "name": "stdin",
     "output_type": "stream",
     "text": [
      "(Pdb)  det_boxes\n"
     ]
    },
    {
     "name": "stdout",
     "output_type": "stream",
     "text": [
      "array([[ 2.03795624e+00,  1.30934235e+02,  5.86419678e+01,\n",
      "         2.04625092e+02,  3.10207773e-02,  2.00000000e+00],\n",
      "       [ 9.75566559e+01,  6.27198982e+01,  1.38641479e+02,\n",
      "         9.15373993e+01,  2.81747188e-02,  2.00000000e+00],\n",
      "       [ 1.13417458e+02,  5.86000557e+01,  1.48989929e+02,\n",
      "         9.11373520e+01,  2.20974404e-02,  2.00000000e+00],\n",
      "       ...,\n",
      "       [ 1.88180176e+02,  6.55056229e+01,  5.07051117e+02,\n",
      "         2.72068268e+02,  1.02572581e-02,  9.93100000e+03],\n",
      "       [ 1.34747192e+02, -2.64772224e+00,  1.99617218e+02,\n",
      "         3.81005936e+01,  1.06335301e-02,  9.94800000e+03],\n",
      "       [ 1.75539627e+02, -1.44076796e+01,  3.64772430e+02,\n",
      "         1.39319672e+02,  3.85760851e-02,  9.96300000e+03]])\n"
     ]
    },
    {
     "name": "stdin",
     "output_type": "stream",
     "text": [
      "(Pdb)  c\n"
     ]
    }
   ],
   "source": [
    "rec, prec, ap = voc_eval(all_boxes[1], annopath, imgsetpath.format(set_type), 'bicycle', cachedir, ovthresh=0.5)"
   ]
  },
  {
   "cell_type": "code",
   "execution_count": 38,
   "metadata": {},
   "outputs": [
    {
     "name": "stdout",
     "output_type": "stream",
     "text": [
      "Evaluating detections\n",
      "VOC07 metric? Yes\n",
      "> <ipython-input-19-9ad02a5f6b14>(71)voc_eval()\n",
      "-> if len(det_boxes):\n"
     ]
    },
    {
     "name": "stdin",
     "output_type": "stream",
     "text": [
      "(Pdb)  det_boxes\n"
     ]
    },
    {
     "name": "stdout",
     "output_type": "stream",
     "text": [
      "array([], shape=(0, 6), dtype=float64)\n"
     ]
    },
    {
     "name": "stdin",
     "output_type": "stream",
     "text": [
      "(Pdb)  c\n"
     ]
    },
    {
     "name": "stdout",
     "output_type": "stream",
     "text": [
      "AP for b = -1.0000\n",
      "> <ipython-input-19-9ad02a5f6b14>(71)voc_eval()\n",
      "-> if len(det_boxes):\n"
     ]
    },
    {
     "name": "stdin",
     "output_type": "stream",
     "text": [
      "(Pdb)  c\n"
     ]
    },
    {
     "name": "stderr",
     "output_type": "stream",
     "text": [
      "/home/user/anaconda3/lib/python3.7/site-packages/ipykernel_launcher.py:71: RuntimeWarning: invalid value encountered in true_divide\n",
      "/home/user/anaconda3/lib/python3.7/site-packages/ipykernel_launcher.py:71: RuntimeWarning: invalid value encountered in greater_equal\n"
     ]
    },
    {
     "name": "stdout",
     "output_type": "stream",
     "text": [
      "AP for i = 0.0000\n",
      "> <ipython-input-19-9ad02a5f6b14>(71)voc_eval()\n",
      "-> if len(det_boxes):\n"
     ]
    },
    {
     "name": "stdin",
     "output_type": "stream",
     "text": [
      "(Pdb)  exit\n"
     ]
    },
    {
     "ename": "BdbQuit",
     "evalue": "",
     "output_type": "error",
     "traceback": [
      "\u001b[0;31m---------------------------------------------------------------------------\u001b[0m",
      "\u001b[0;31mBdbQuit\u001b[0m                                   Traceback (most recent call last)",
      "\u001b[0;32m<ipython-input-38-d70b7781faba>\u001b[0m in \u001b[0;36m<module>\u001b[0;34m\u001b[0m\n\u001b[1;32m     10\u001b[0m     rec, prec, ap = voc_eval(\n\u001b[1;32m     11\u001b[0m        \u001b[0mall_boxes\u001b[0m\u001b[0;34m[\u001b[0m\u001b[0mi\u001b[0m\u001b[0;34m]\u001b[0m\u001b[0;34m,\u001b[0m \u001b[0mannopath\u001b[0m\u001b[0;34m,\u001b[0m \u001b[0mimgsetpath\u001b[0m\u001b[0;34m.\u001b[0m\u001b[0mformat\u001b[0m\u001b[0;34m(\u001b[0m\u001b[0mset_type\u001b[0m\u001b[0;34m)\u001b[0m\u001b[0;34m,\u001b[0m \u001b[0mcls\u001b[0m\u001b[0;34m,\u001b[0m \u001b[0mcachedir\u001b[0m\u001b[0;34m,\u001b[0m\u001b[0;34m\u001b[0m\u001b[0;34m\u001b[0m\u001b[0m\n\u001b[0;32m---> 12\u001b[0;31m        ovthresh=0.5, use_07_metric=use_07_metric)\n\u001b[0m\u001b[1;32m     13\u001b[0m     \u001b[0maps\u001b[0m \u001b[0;34m+=\u001b[0m \u001b[0;34m[\u001b[0m\u001b[0map\u001b[0m\u001b[0;34m]\u001b[0m\u001b[0;34m\u001b[0m\u001b[0;34m\u001b[0m\u001b[0m\n\u001b[1;32m     14\u001b[0m     \u001b[0mprint\u001b[0m\u001b[0;34m(\u001b[0m\u001b[0;34m'AP for {} = {:.4f}'\u001b[0m\u001b[0;34m.\u001b[0m\u001b[0mformat\u001b[0m\u001b[0;34m(\u001b[0m\u001b[0mcls\u001b[0m\u001b[0;34m,\u001b[0m \u001b[0map\u001b[0m\u001b[0;34m)\u001b[0m\u001b[0;34m)\u001b[0m\u001b[0;34m\u001b[0m\u001b[0;34m\u001b[0m\u001b[0m\n",
      "\u001b[0;32m<ipython-input-19-9ad02a5f6b14>\u001b[0m in \u001b[0;36mvoc_eval\u001b[0;34m(det_boxes, annopath, imagesetfile, classname, cachedir, ovthresh, use_07_metric)\u001b[0m\n\u001b[1;32m     69\u001b[0m \u001b[0;31m#         lines = f.readlines()\u001b[0m\u001b[0;34m\u001b[0m\u001b[0;34m\u001b[0m\u001b[0;34m\u001b[0m\u001b[0m\n\u001b[1;32m     70\u001b[0m \u001b[0;34m\u001b[0m\u001b[0m\n\u001b[0;32m---> 71\u001b[0;31m     \u001b[0;32mif\u001b[0m \u001b[0mlen\u001b[0m\u001b[0;34m(\u001b[0m\u001b[0mdet_boxes\u001b[0m\u001b[0;34m)\u001b[0m\u001b[0;34m:\u001b[0m\u001b[0;34m\u001b[0m\u001b[0;34m\u001b[0m\u001b[0m\n\u001b[0m\u001b[1;32m     72\u001b[0m \u001b[0;34m\u001b[0m\u001b[0m\n\u001b[1;32m     73\u001b[0m \u001b[0;31m#         import pdb\u001b[0m\u001b[0;34m\u001b[0m\u001b[0;34m\u001b[0m\u001b[0;34m\u001b[0m\u001b[0m\n",
      "\u001b[0;32m<ipython-input-19-9ad02a5f6b14>\u001b[0m in \u001b[0;36mvoc_eval\u001b[0;34m(det_boxes, annopath, imagesetfile, classname, cachedir, ovthresh, use_07_metric)\u001b[0m\n\u001b[1;32m     69\u001b[0m \u001b[0;31m#         lines = f.readlines()\u001b[0m\u001b[0;34m\u001b[0m\u001b[0;34m\u001b[0m\u001b[0;34m\u001b[0m\u001b[0m\n\u001b[1;32m     70\u001b[0m \u001b[0;34m\u001b[0m\u001b[0m\n\u001b[0;32m---> 71\u001b[0;31m     \u001b[0;32mif\u001b[0m \u001b[0mlen\u001b[0m\u001b[0;34m(\u001b[0m\u001b[0mdet_boxes\u001b[0m\u001b[0;34m)\u001b[0m\u001b[0;34m:\u001b[0m\u001b[0;34m\u001b[0m\u001b[0;34m\u001b[0m\u001b[0m\n\u001b[0m\u001b[1;32m     72\u001b[0m \u001b[0;34m\u001b[0m\u001b[0m\n\u001b[1;32m     73\u001b[0m \u001b[0;31m#         import pdb\u001b[0m\u001b[0;34m\u001b[0m\u001b[0;34m\u001b[0m\u001b[0;34m\u001b[0m\u001b[0m\n",
      "\u001b[0;32m~/anaconda3/lib/python3.7/bdb.py\u001b[0m in \u001b[0;36mtrace_dispatch\u001b[0;34m(self, frame, event, arg)\u001b[0m\n\u001b[1;32m     86\u001b[0m             \u001b[0;32mreturn\u001b[0m \u001b[0;31m# None\u001b[0m\u001b[0;34m\u001b[0m\u001b[0;34m\u001b[0m\u001b[0m\n\u001b[1;32m     87\u001b[0m         \u001b[0;32mif\u001b[0m \u001b[0mevent\u001b[0m \u001b[0;34m==\u001b[0m \u001b[0;34m'line'\u001b[0m\u001b[0;34m:\u001b[0m\u001b[0;34m\u001b[0m\u001b[0;34m\u001b[0m\u001b[0m\n\u001b[0;32m---> 88\u001b[0;31m             \u001b[0;32mreturn\u001b[0m \u001b[0mself\u001b[0m\u001b[0;34m.\u001b[0m\u001b[0mdispatch_line\u001b[0m\u001b[0;34m(\u001b[0m\u001b[0mframe\u001b[0m\u001b[0;34m)\u001b[0m\u001b[0;34m\u001b[0m\u001b[0;34m\u001b[0m\u001b[0m\n\u001b[0m\u001b[1;32m     89\u001b[0m         \u001b[0;32mif\u001b[0m \u001b[0mevent\u001b[0m \u001b[0;34m==\u001b[0m \u001b[0;34m'call'\u001b[0m\u001b[0;34m:\u001b[0m\u001b[0;34m\u001b[0m\u001b[0;34m\u001b[0m\u001b[0m\n\u001b[1;32m     90\u001b[0m             \u001b[0;32mreturn\u001b[0m \u001b[0mself\u001b[0m\u001b[0;34m.\u001b[0m\u001b[0mdispatch_call\u001b[0m\u001b[0;34m(\u001b[0m\u001b[0mframe\u001b[0m\u001b[0;34m,\u001b[0m \u001b[0marg\u001b[0m\u001b[0;34m)\u001b[0m\u001b[0;34m\u001b[0m\u001b[0;34m\u001b[0m\u001b[0m\n",
      "\u001b[0;32m~/anaconda3/lib/python3.7/bdb.py\u001b[0m in \u001b[0;36mdispatch_line\u001b[0;34m(self, frame)\u001b[0m\n\u001b[1;32m    111\u001b[0m         \u001b[0;32mif\u001b[0m \u001b[0mself\u001b[0m\u001b[0;34m.\u001b[0m\u001b[0mstop_here\u001b[0m\u001b[0;34m(\u001b[0m\u001b[0mframe\u001b[0m\u001b[0;34m)\u001b[0m \u001b[0;32mor\u001b[0m \u001b[0mself\u001b[0m\u001b[0;34m.\u001b[0m\u001b[0mbreak_here\u001b[0m\u001b[0;34m(\u001b[0m\u001b[0mframe\u001b[0m\u001b[0;34m)\u001b[0m\u001b[0;34m:\u001b[0m\u001b[0;34m\u001b[0m\u001b[0;34m\u001b[0m\u001b[0m\n\u001b[1;32m    112\u001b[0m             \u001b[0mself\u001b[0m\u001b[0;34m.\u001b[0m\u001b[0muser_line\u001b[0m\u001b[0;34m(\u001b[0m\u001b[0mframe\u001b[0m\u001b[0;34m)\u001b[0m\u001b[0;34m\u001b[0m\u001b[0;34m\u001b[0m\u001b[0m\n\u001b[0;32m--> 113\u001b[0;31m             \u001b[0;32mif\u001b[0m \u001b[0mself\u001b[0m\u001b[0;34m.\u001b[0m\u001b[0mquitting\u001b[0m\u001b[0;34m:\u001b[0m \u001b[0;32mraise\u001b[0m \u001b[0mBdbQuit\u001b[0m\u001b[0;34m\u001b[0m\u001b[0;34m\u001b[0m\u001b[0m\n\u001b[0m\u001b[1;32m    114\u001b[0m         \u001b[0;32mreturn\u001b[0m \u001b[0mself\u001b[0m\u001b[0;34m.\u001b[0m\u001b[0mtrace_dispatch\u001b[0m\u001b[0;34m\u001b[0m\u001b[0;34m\u001b[0m\u001b[0m\n\u001b[1;32m    115\u001b[0m \u001b[0;34m\u001b[0m\u001b[0m\n",
      "\u001b[0;31mBdbQuit\u001b[0m: "
     ]
    }
   ],
   "source": [
    "print('Evaluating detections')\n",
    "\n",
    "cachedir = os.path.join(save_folder, 'annotations_cache')\n",
    "aps = []\n",
    "print('VOC07 metric? ' + ('Yes' if use_07_metric else 'No'))\n",
    "\n",
    "for i, cls in enumerate(labelmap[1]):\n",
    "    rec, prec, ap = voc_eval(all_boxes[i], annopath, imgsetpath.format(set_type), cls, cachedir, ovthresh=0.5)\n",
    "    aps += [ap]\n",
    "    print('AP for {} = {:.4f}'.format(cls, ap))\n",
    "    with open(os.path.join(output_dir, cls + '_pr.pkl'), 'wb') as f:\n",
    "        pickle.dump({'rec': rec, 'prec': prec, 'ap': ap}, f)\n",
    "print('Mean AP = {:.4f}'.format(np.mean(aps)))\n",
    "print('~~~~~~~~')\n",
    "print('Results:')\n",
    "for ap in aps:\n",
    "    print('{:.3f}'.format(ap))\n",
    "print('{:.3f}'.format(np.mean(aps)))\n",
    "print('~~~~~~~~')\n",
    "print('')\n",
    "print('--------------------------------------------------------------')\n",
    "print('Results computed with the **unofficial** Python eval code.')\n",
    "print('Results should be very close to the official MATLAB eval code.')\n",
    "print('--------------------------------------------------------------')"
   ]
  },
  {
   "cell_type": "code",
   "execution_count": 37,
   "metadata": {},
   "outputs": [
    {
     "data": {
      "text/plain": [
       "array([ 13.68173981,  70.3891449 , 407.73852539, 324.32394409,\n",
       "         0.99882454, 261.        ])"
      ]
     },
     "execution_count": 37,
     "metadata": {},
     "output_type": "execute_result"
    }
   ],
   "source": [
    "all_boxes[i][81,]"
   ]
  }
 ],
 "metadata": {
  "kernelspec": {
   "display_name": "Python 3",
   "language": "python",
   "name": "python3"
  },
  "language_info": {
   "codemirror_mode": {
    "name": "ipython",
    "version": 3
   },
   "file_extension": ".py",
   "mimetype": "text/x-python",
   "name": "python",
   "nbconvert_exporter": "python",
   "pygments_lexer": "ipython3",
   "version": "3.7.1"
  }
 },
 "nbformat": 4,
 "nbformat_minor": 2
}
