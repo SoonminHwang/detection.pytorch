{
 "cells": [
  {
   "cell_type": "markdown",
   "metadata": {},
   "source": [
    "# 물체 검출 결과 평가 방법 이해하기\n",
    "성능 평가 코드를 이해하고 분석하여 precision-recall curve에서 주어진 recall값에 대한 threshold 값을 계산합니다.<br/>\n",
    "구해진 threshold값을 이용하여 검출 결과를 출력합니다."
   ]
  },
  {
   "cell_type": "code",
   "execution_count": 1,
   "metadata": {},
   "outputs": [],
   "source": [
    "\"\"\"Adapted from:\n",
    "    @longcw faster_rcnn_pytorch: https://github.com/longcw/faster_rcnn_pytorch\n",
    "    @rbgirshick py-faster-rcnn https://github.com/rbgirshick/py-faster-rcnn\n",
    "    Licensed under The MIT License [see LICENSE for details]\n",
    "\"\"\"\n",
    "\n",
    "from __future__ import print_function\n",
    "import torch\n",
    "import torch.nn as nn\n",
    "import torch.backends.cudnn as cudnn\n",
    "from torch.autograd import Variable\n",
    "from data import VOC_ROOT, VOCAnnotationTransform, VOCDetection, BaseTransform\n",
    "from data import VOC_CLASSES as labelmap\n",
    "import torch.utils.data as data\n",
    "from utils import Timer\n",
    "from ssd import build_ssd\n",
    "\n",
    "import sys\n",
    "import os\n",
    "import time\n",
    "import argparse\n",
    "import numpy as np\n",
    "import pickle\n",
    "import cv2\n",
    "\n",
    "# %matplotlib inline\n",
    "from matplotlib import pyplot as plt\n",
    "\n",
    "import xml.etree.ElementTree as ET\n",
    "\n",
    "annopath = os.path.join(VOC_ROOT, 'VOC2007', 'Annotations', '%s.xml')\n",
    "imgpath = os.path.join(VOC_ROOT, 'VOC2007', 'JPEGImages', '%s.jpg')\n",
    "imgsetpath = os.path.join(VOC_ROOT, 'VOC2007', 'ImageSets', 'Main', '{:s}.txt')\n",
    "YEAR = '2007'\n",
    "devkit_path = VOC_ROOT + 'VOC' + YEAR\n",
    "dataset_mean = (104, 117, 123)"
   ]
  },
  {
   "cell_type": "code",
   "execution_count": 2,
   "metadata": {},
   "outputs": [
    {
     "name": "stdout",
     "output_type": "stream",
     "text": [
      "Loading weights into state dict...\n",
      "Finished!\n",
      "Finished loading model!\n"
     ]
    }
   ],
   "source": [
    "### load net\n",
    "num_classes = len(labelmap) + 1                      # +1 for background\n",
    "net = build_ssd('vgg16', 300, 21)    # initialize SSD\n",
    "# net.load_state_dict(torch.load(args.trained_model))\n",
    "net.load_weights('weights/ssd300_mAP_77.43_v2.pth')\n",
    "# net.load_state_dict(torch.load(args.trained_model, map_location='cpu'))\n",
    "net.eval()\n",
    "print('Finished loading model!')\n",
    "\n",
    "### load data\n",
    "set_type = 'test'\n",
    "dataset = VOCDetection(VOC_ROOT, [('2007', set_type)],\n",
    "                       BaseTransform(300, dataset_mean),\n",
    "                       VOCAnnotationTransform())\n",
    "if torch.cuda.is_available():\n",
    "    net = net.cuda()\n",
    "    cudnn.benchmark = True"
   ]
  },
  {
   "cell_type": "code",
   "execution_count": 8,
   "metadata": {},
   "outputs": [
    {
     "name": "stdout",
     "output_type": "stream",
     "text": [
      "im_detect: 1/4952 2.237s\n",
      "im_detect: 2/4952 2.140s\n",
      "im_detect: 3/4952 2.138s\n"
     ]
    },
    {
     "ename": "KeyboardInterrupt",
     "evalue": "",
     "output_type": "error",
     "traceback": [
      "\u001b[1;31m---------------------------------------------------------------------------\u001b[0m",
      "\u001b[1;31mKeyboardInterrupt\u001b[0m                         Traceback (most recent call last)",
      "\u001b[1;32m<ipython-input-8-ba9c9b017bdf>\u001b[0m in \u001b[0;36m<module>\u001b[1;34m\u001b[0m\n\u001b[0;32m     31\u001b[0m     \u001b[0m_t\u001b[0m\u001b[1;33m[\u001b[0m\u001b[1;34m'im_detect'\u001b[0m\u001b[1;33m]\u001b[0m\u001b[1;33m.\u001b[0m\u001b[0mtic\u001b[0m\u001b[1;33m(\u001b[0m\u001b[1;33m)\u001b[0m\u001b[1;33m\u001b[0m\u001b[1;33m\u001b[0m\u001b[0m\n\u001b[0;32m     32\u001b[0m     \u001b[1;32mwith\u001b[0m \u001b[0mtorch\u001b[0m\u001b[1;33m.\u001b[0m\u001b[0mno_grad\u001b[0m\u001b[1;33m(\u001b[0m\u001b[1;33m)\u001b[0m\u001b[1;33m:\u001b[0m\u001b[1;33m\u001b[0m\u001b[1;33m\u001b[0m\u001b[0m\n\u001b[1;32m---> 33\u001b[1;33m         \u001b[0mloc_pred\u001b[0m\u001b[1;33m,\u001b[0m \u001b[0mcls_pred\u001b[0m\u001b[1;33m,\u001b[0m \u001b[0mpriors\u001b[0m \u001b[1;33m=\u001b[0m \u001b[0mnet\u001b[0m\u001b[1;33m(\u001b[0m\u001b[0mx\u001b[0m\u001b[1;33m)\u001b[0m\u001b[1;33m\u001b[0m\u001b[1;33m\u001b[0m\u001b[0m\n\u001b[0m\u001b[0;32m     34\u001b[0m     \u001b[0mdetections\u001b[0m \u001b[1;33m=\u001b[0m \u001b[0mparser\u001b[0m\u001b[1;33m(\u001b[0m\u001b[0mloc_pred\u001b[0m\u001b[1;33m,\u001b[0m \u001b[0msoftmax\u001b[0m\u001b[1;33m(\u001b[0m\u001b[0mcls_pred\u001b[0m\u001b[1;33m)\u001b[0m\u001b[1;33m,\u001b[0m \u001b[0mpriors\u001b[0m\u001b[1;33m.\u001b[0m\u001b[0mtype\u001b[0m\u001b[1;33m(\u001b[0m\u001b[0mtype\u001b[0m\u001b[1;33m(\u001b[0m\u001b[0mx\u001b[0m\u001b[1;33m)\u001b[0m\u001b[1;33m)\u001b[0m\u001b[1;33m)\u001b[0m\u001b[1;33m\u001b[0m\u001b[1;33m\u001b[0m\u001b[0m\n\u001b[0;32m     35\u001b[0m     \u001b[0mdetect_time\u001b[0m \u001b[1;33m=\u001b[0m \u001b[0m_t\u001b[0m\u001b[1;33m[\u001b[0m\u001b[1;34m'im_detect'\u001b[0m\u001b[1;33m]\u001b[0m\u001b[1;33m.\u001b[0m\u001b[0mtoc\u001b[0m\u001b[1;33m(\u001b[0m\u001b[0maverage\u001b[0m\u001b[1;33m=\u001b[0m\u001b[1;32mFalse\u001b[0m\u001b[1;33m)\u001b[0m\u001b[1;33m\u001b[0m\u001b[1;33m\u001b[0m\u001b[0m\n",
      "\u001b[1;32m~\\Anaconda3\\lib\\site-packages\\torch\\nn\\modules\\module.py\u001b[0m in \u001b[0;36m__call__\u001b[1;34m(self, *input, **kwargs)\u001b[0m\n\u001b[0;32m    487\u001b[0m             \u001b[0mresult\u001b[0m \u001b[1;33m=\u001b[0m \u001b[0mself\u001b[0m\u001b[1;33m.\u001b[0m\u001b[0m_slow_forward\u001b[0m\u001b[1;33m(\u001b[0m\u001b[1;33m*\u001b[0m\u001b[0minput\u001b[0m\u001b[1;33m,\u001b[0m \u001b[1;33m**\u001b[0m\u001b[0mkwargs\u001b[0m\u001b[1;33m)\u001b[0m\u001b[1;33m\u001b[0m\u001b[1;33m\u001b[0m\u001b[0m\n\u001b[0;32m    488\u001b[0m         \u001b[1;32melse\u001b[0m\u001b[1;33m:\u001b[0m\u001b[1;33m\u001b[0m\u001b[1;33m\u001b[0m\u001b[0m\n\u001b[1;32m--> 489\u001b[1;33m             \u001b[0mresult\u001b[0m \u001b[1;33m=\u001b[0m \u001b[0mself\u001b[0m\u001b[1;33m.\u001b[0m\u001b[0mforward\u001b[0m\u001b[1;33m(\u001b[0m\u001b[1;33m*\u001b[0m\u001b[0minput\u001b[0m\u001b[1;33m,\u001b[0m \u001b[1;33m**\u001b[0m\u001b[0mkwargs\u001b[0m\u001b[1;33m)\u001b[0m\u001b[1;33m\u001b[0m\u001b[1;33m\u001b[0m\u001b[0m\n\u001b[0m\u001b[0;32m    490\u001b[0m         \u001b[1;32mfor\u001b[0m \u001b[0mhook\u001b[0m \u001b[1;32min\u001b[0m \u001b[0mself\u001b[0m\u001b[1;33m.\u001b[0m\u001b[0m_forward_hooks\u001b[0m\u001b[1;33m.\u001b[0m\u001b[0mvalues\u001b[0m\u001b[1;33m(\u001b[0m\u001b[1;33m)\u001b[0m\u001b[1;33m:\u001b[0m\u001b[1;33m\u001b[0m\u001b[1;33m\u001b[0m\u001b[0m\n\u001b[0;32m    491\u001b[0m             \u001b[0mhook_result\u001b[0m \u001b[1;33m=\u001b[0m \u001b[0mhook\u001b[0m\u001b[1;33m(\u001b[0m\u001b[0mself\u001b[0m\u001b[1;33m,\u001b[0m \u001b[0minput\u001b[0m\u001b[1;33m,\u001b[0m \u001b[0mresult\u001b[0m\u001b[1;33m)\u001b[0m\u001b[1;33m\u001b[0m\u001b[1;33m\u001b[0m\u001b[0m\n",
      "\u001b[1;32m~\\Documents\\github\\ssd.pytorch\\ssd.py\u001b[0m in \u001b[0;36mforward\u001b[1;34m(self, x)\u001b[0m\n\u001b[0;32m     84\u001b[0m         \u001b[1;31m# apply vgg up to conv4_3 relu\u001b[0m\u001b[1;33m\u001b[0m\u001b[1;33m\u001b[0m\u001b[1;33m\u001b[0m\u001b[0m\n\u001b[0;32m     85\u001b[0m         \u001b[1;32mfor\u001b[0m \u001b[0mk\u001b[0m \u001b[1;32min\u001b[0m \u001b[0mrange\u001b[0m\u001b[1;33m(\u001b[0m\u001b[1;36m23\u001b[0m\u001b[1;33m)\u001b[0m\u001b[1;33m:\u001b[0m\u001b[1;33m\u001b[0m\u001b[1;33m\u001b[0m\u001b[0m\n\u001b[1;32m---> 86\u001b[1;33m             \u001b[0mx\u001b[0m \u001b[1;33m=\u001b[0m \u001b[0mself\u001b[0m\u001b[1;33m.\u001b[0m\u001b[0mvgg\u001b[0m\u001b[1;33m[\u001b[0m\u001b[0mk\u001b[0m\u001b[1;33m]\u001b[0m\u001b[1;33m(\u001b[0m\u001b[0mx\u001b[0m\u001b[1;33m)\u001b[0m\u001b[1;33m\u001b[0m\u001b[1;33m\u001b[0m\u001b[0m\n\u001b[0m\u001b[0;32m     87\u001b[0m \u001b[1;33m\u001b[0m\u001b[0m\n\u001b[0;32m     88\u001b[0m         \u001b[0ms\u001b[0m \u001b[1;33m=\u001b[0m \u001b[0mself\u001b[0m\u001b[1;33m.\u001b[0m\u001b[0mL2Norm\u001b[0m\u001b[1;33m(\u001b[0m\u001b[0mx\u001b[0m\u001b[1;33m)\u001b[0m\u001b[1;33m\u001b[0m\u001b[1;33m\u001b[0m\u001b[0m\n",
      "\u001b[1;32m~\\Anaconda3\\lib\\site-packages\\torch\\nn\\modules\\module.py\u001b[0m in \u001b[0;36m__call__\u001b[1;34m(self, *input, **kwargs)\u001b[0m\n\u001b[0;32m    487\u001b[0m             \u001b[0mresult\u001b[0m \u001b[1;33m=\u001b[0m \u001b[0mself\u001b[0m\u001b[1;33m.\u001b[0m\u001b[0m_slow_forward\u001b[0m\u001b[1;33m(\u001b[0m\u001b[1;33m*\u001b[0m\u001b[0minput\u001b[0m\u001b[1;33m,\u001b[0m \u001b[1;33m**\u001b[0m\u001b[0mkwargs\u001b[0m\u001b[1;33m)\u001b[0m\u001b[1;33m\u001b[0m\u001b[1;33m\u001b[0m\u001b[0m\n\u001b[0;32m    488\u001b[0m         \u001b[1;32melse\u001b[0m\u001b[1;33m:\u001b[0m\u001b[1;33m\u001b[0m\u001b[1;33m\u001b[0m\u001b[0m\n\u001b[1;32m--> 489\u001b[1;33m             \u001b[0mresult\u001b[0m \u001b[1;33m=\u001b[0m \u001b[0mself\u001b[0m\u001b[1;33m.\u001b[0m\u001b[0mforward\u001b[0m\u001b[1;33m(\u001b[0m\u001b[1;33m*\u001b[0m\u001b[0minput\u001b[0m\u001b[1;33m,\u001b[0m \u001b[1;33m**\u001b[0m\u001b[0mkwargs\u001b[0m\u001b[1;33m)\u001b[0m\u001b[1;33m\u001b[0m\u001b[1;33m\u001b[0m\u001b[0m\n\u001b[0m\u001b[0;32m    490\u001b[0m         \u001b[1;32mfor\u001b[0m \u001b[0mhook\u001b[0m \u001b[1;32min\u001b[0m \u001b[0mself\u001b[0m\u001b[1;33m.\u001b[0m\u001b[0m_forward_hooks\u001b[0m\u001b[1;33m.\u001b[0m\u001b[0mvalues\u001b[0m\u001b[1;33m(\u001b[0m\u001b[1;33m)\u001b[0m\u001b[1;33m:\u001b[0m\u001b[1;33m\u001b[0m\u001b[1;33m\u001b[0m\u001b[0m\n\u001b[0;32m    491\u001b[0m             \u001b[0mhook_result\u001b[0m \u001b[1;33m=\u001b[0m \u001b[0mhook\u001b[0m\u001b[1;33m(\u001b[0m\u001b[0mself\u001b[0m\u001b[1;33m,\u001b[0m \u001b[0minput\u001b[0m\u001b[1;33m,\u001b[0m \u001b[0mresult\u001b[0m\u001b[1;33m)\u001b[0m\u001b[1;33m\u001b[0m\u001b[1;33m\u001b[0m\u001b[0m\n",
      "\u001b[1;32m~\\Anaconda3\\lib\\site-packages\\torch\\nn\\modules\\activation.py\u001b[0m in \u001b[0;36mforward\u001b[1;34m(self, input)\u001b[0m\n\u001b[0;32m     48\u001b[0m     \u001b[1;33m@\u001b[0m\u001b[0mweak_script_method\u001b[0m\u001b[1;33m\u001b[0m\u001b[1;33m\u001b[0m\u001b[0m\n\u001b[0;32m     49\u001b[0m     \u001b[1;32mdef\u001b[0m \u001b[0mforward\u001b[0m\u001b[1;33m(\u001b[0m\u001b[0mself\u001b[0m\u001b[1;33m,\u001b[0m \u001b[0minput\u001b[0m\u001b[1;33m)\u001b[0m\u001b[1;33m:\u001b[0m\u001b[1;33m\u001b[0m\u001b[1;33m\u001b[0m\u001b[0m\n\u001b[1;32m---> 50\u001b[1;33m         \u001b[1;32mreturn\u001b[0m \u001b[0mF\u001b[0m\u001b[1;33m.\u001b[0m\u001b[0mthreshold\u001b[0m\u001b[1;33m(\u001b[0m\u001b[0minput\u001b[0m\u001b[1;33m,\u001b[0m \u001b[0mself\u001b[0m\u001b[1;33m.\u001b[0m\u001b[0mthreshold\u001b[0m\u001b[1;33m,\u001b[0m \u001b[0mself\u001b[0m\u001b[1;33m.\u001b[0m\u001b[0mvalue\u001b[0m\u001b[1;33m,\u001b[0m \u001b[0mself\u001b[0m\u001b[1;33m.\u001b[0m\u001b[0minplace\u001b[0m\u001b[1;33m)\u001b[0m\u001b[1;33m\u001b[0m\u001b[1;33m\u001b[0m\u001b[0m\n\u001b[0m\u001b[0;32m     51\u001b[0m \u001b[1;33m\u001b[0m\u001b[0m\n\u001b[0;32m     52\u001b[0m     \u001b[1;32mdef\u001b[0m \u001b[0mextra_repr\u001b[0m\u001b[1;33m(\u001b[0m\u001b[0mself\u001b[0m\u001b[1;33m)\u001b[0m\u001b[1;33m:\u001b[0m\u001b[1;33m\u001b[0m\u001b[1;33m\u001b[0m\u001b[0m\n",
      "\u001b[1;32m~\\Anaconda3\\lib\\site-packages\\torch\\nn\\functional.py\u001b[0m in \u001b[0;36mthreshold\u001b[1;34m(input, threshold, value, inplace)\u001b[0m\n\u001b[0;32m    836\u001b[0m     \"\"\"\n\u001b[0;32m    837\u001b[0m     \u001b[1;32mif\u001b[0m \u001b[0minplace\u001b[0m\u001b[1;33m:\u001b[0m\u001b[1;33m\u001b[0m\u001b[1;33m\u001b[0m\u001b[0m\n\u001b[1;32m--> 838\u001b[1;33m         \u001b[0mresult\u001b[0m \u001b[1;33m=\u001b[0m \u001b[0m_VF\u001b[0m\u001b[1;33m.\u001b[0m\u001b[0mthreshold_\u001b[0m\u001b[1;33m(\u001b[0m\u001b[0minput\u001b[0m\u001b[1;33m,\u001b[0m \u001b[0mthreshold\u001b[0m\u001b[1;33m,\u001b[0m \u001b[0mvalue\u001b[0m\u001b[1;33m)\u001b[0m\u001b[1;33m\u001b[0m\u001b[1;33m\u001b[0m\u001b[0m\n\u001b[0m\u001b[0;32m    839\u001b[0m     \u001b[1;32melse\u001b[0m\u001b[1;33m:\u001b[0m\u001b[1;33m\u001b[0m\u001b[1;33m\u001b[0m\u001b[0m\n\u001b[0;32m    840\u001b[0m         \u001b[0mresult\u001b[0m \u001b[1;33m=\u001b[0m \u001b[0m_VF\u001b[0m\u001b[1;33m.\u001b[0m\u001b[0mthreshold\u001b[0m\u001b[1;33m(\u001b[0m\u001b[0minput\u001b[0m\u001b[1;33m,\u001b[0m \u001b[0mthreshold\u001b[0m\u001b[1;33m,\u001b[0m \u001b[0mvalue\u001b[0m\u001b[1;33m)\u001b[0m\u001b[1;33m\u001b[0m\u001b[1;33m\u001b[0m\u001b[0m\n",
      "\u001b[1;31mKeyboardInterrupt\u001b[0m: "
     ]
    }
   ],
   "source": [
    "save_folder = 'ssd300_results'\n",
    "top_k = 10\n",
    "\n",
    "from layers import Detect\n",
    "\n",
    "num_images = len(dataset)\n",
    "parser = Detect(num_classes, 0, 200, 0.01, 0.45)\n",
    "softmax = nn.Softmax(dim=-1)\n",
    "\n",
    "# all detections are collected into:\n",
    "#    all_boxes[cls][image] = N x 5 array of detections in\n",
    "#    (x1, y1, x2, y2, score)\n",
    "all_boxes = [[[] for _ in range(num_images)]\n",
    "             for _ in range(len(labelmap)+1)]\n",
    "\n",
    "# timers\n",
    "_t = {'im_detect': Timer(), 'misc': Timer()}    \n",
    "        \n",
    "output_dir = os.path.join(save_folder, set_type)\n",
    "if not os.path.exists(output_dir):\n",
    "    os.makedirs(output_dir)\n",
    "det_file = os.path.join(output_dir, 'detections.pkl')\n",
    "\n",
    "for i in range(num_images):\n",
    "    im, gt, h, w, ids = dataset.pull_item_with_index(i)\n",
    "\n",
    "    x = im.unsqueeze(0)\n",
    "    if torch.cuda.is_available():\n",
    "        x = x.cuda()\n",
    "        \n",
    "    _t['im_detect'].tic()\n",
    "    with torch.no_grad():    \n",
    "        loc_pred, cls_pred, priors = net(x)    \n",
    "    detections = parser(loc_pred, softmax(cls_pred), priors.type(type(x)))                \n",
    "    detect_time = _t['im_detect'].toc(average=False)    \n",
    "    \n",
    "    # skip j = 0, because it's the background class\n",
    "    for j in range(1, detections.size(1)):\n",
    "        dets = detections[0, j, :]\n",
    "        mask = dets[:, 0].gt(0.).expand(5, dets.size(0)).t()\n",
    "        dets = torch.masked_select(dets, mask).view(-1, 5)\n",
    "        if dets.shape[0] == 0:\n",
    "            continue\n",
    "        boxes = dets[:, 1:]\n",
    "        boxes[:, 0] *= w\n",
    "        boxes[:, 2] *= w\n",
    "        boxes[:, 1] *= h\n",
    "        boxes[:, 3] *= h\n",
    "        scores = dets[:, 0].cpu().numpy()\n",
    "                \n",
    "        ids_dets = ids*np.ones( (len(scores),1) )\n",
    "        cls_dets = np.hstack(\n",
    "            (boxes.cpu().numpy(),\\\n",
    "             scores[:, np.newaxis], \\\n",
    "             ids_dets\n",
    "            )).astype(np.float32, copy=False)\n",
    "        all_boxes[j][i] = cls_dets\n",
    "        \n",
    "    print('im_detect: {:d}/{:d} {:.3f}s'.format(i+1, num_images, detect_time))\n",
    "\n",
    "with open(det_file, 'wb') as f:\n",
    "    pickle.dump(all_boxes, f, pickle.HIGHEST_PROTOCOL)    "
   ]
  },
  {
   "cell_type": "code",
   "execution_count": 6,
   "metadata": {},
   "outputs": [],
   "source": [
    "def parse_rec(filename):\n",
    "    \"\"\" Parse a PASCAL VOC xml file \"\"\"\n",
    "    tree = ET.parse(filename)\n",
    "    objects = []\n",
    "    for obj in tree.findall('object'):\n",
    "        obj_struct = {}\n",
    "        obj_struct['name'] = obj.find('name').text\n",
    "        obj_struct['pose'] = obj.find('pose').text\n",
    "        obj_struct['truncated'] = int(obj.find('truncated').text)\n",
    "        obj_struct['difficult'] = int(obj.find('difficult').text)\n",
    "        bbox = obj.find('bndbox')\n",
    "        obj_struct['bbox'] = [int(bbox.find('xmin').text) - 1,\n",
    "                              int(bbox.find('ymin').text) - 1,\n",
    "                              int(bbox.find('xmax').text) - 1,\n",
    "                              int(bbox.find('ymax').text) - 1]\n",
    "        objects.append(obj_struct)\n",
    "\n",
    "    return objects"
   ]
  },
  {
   "cell_type": "code",
   "execution_count": 9,
   "metadata": {},
   "outputs": [],
   "source": [
    "def voc_eval(det_boxes, annopath, imagesetfile, classname, cachedir,\n",
    "             ovthresh=0.5, use_07_metric=True):\n",
    "    \"\"\"rec, prec, ap = voc_eval(detpath,\n",
    "                           annopath,\n",
    "                           imagesetfile,\n",
    "                           classname,\n",
    "                           [ovthresh],\n",
    "                           [use_07_metric])\n",
    "Top level function that does the PASCAL VOC evaluation.\n",
    "detpath: Path to detections\n",
    "   detpath.format(classname) should produce the detection results file.\n",
    "annopath: Path to annotations\n",
    "   annopath.format(imagename) should be the xml annotations file.\n",
    "imagesetfile: Text file containing the list of images, one image per line.\n",
    "classname: Category name (duh)\n",
    "cachedir: Directory for caching the annotations\n",
    "[ovthresh]: Overlap threshold (default = 0.5)\n",
    "[use_07_metric]: Whether to use VOC07's 11 point AP computation\n",
    "   (default True)\n",
    "\"\"\"\n",
    "# assumes detections are in detpath.format(classname)\n",
    "# assumes annotations are in annopath.format(imagename)\n",
    "# assumes imagesetfile is a text file with each line an image name\n",
    "# cachedir caches the annotations in a pickle file\n",
    "# first load gt\n",
    "    if not os.path.isdir(cachedir):\n",
    "        os.mkdir(cachedir)\n",
    "    cachefile = os.path.join(cachedir, 'annots.pkl')\n",
    "    # read list of images\n",
    "    with open(imagesetfile, 'r') as f:\n",
    "        lines = f.readlines()\n",
    "    imagenames = [x.strip() for x in lines]\n",
    "    if not os.path.isfile(cachefile):\n",
    "        # load annots\n",
    "        recs = {}\n",
    "        for i, imagename in enumerate(imagenames):\n",
    "            recs[imagename] = parse_rec(annopath % (imagename))\n",
    "            if i % 100 == 0:\n",
    "                print('Reading annotation for {:d}/{:d}'.format(\n",
    "                   i + 1, len(imagenames)))\n",
    "        # save\n",
    "        print('Saving cached annotations to {:s}'.format(cachefile))\n",
    "        with open(cachefile, 'wb') as f:\n",
    "            pickle.dump(recs, f)\n",
    "    else:\n",
    "        # load\n",
    "        with open(cachefile, 'rb') as f:\n",
    "            recs = pickle.load(f)\n",
    "\n",
    "    # extract gt objects for this class\n",
    "    class_recs = {}\n",
    "    npos = 0\n",
    "    for imagename in imagenames:\n",
    "        R = [obj for obj in recs[imagename] if obj['name'] == classname]\n",
    "        bbox = np.array([x['bbox'] for x in R])\n",
    "        difficult = np.array([x['difficult'] for x in R]).astype(np.bool)\n",
    "        det = [False] * len(R)\n",
    "        npos = npos + sum(~difficult)\n",
    "        class_recs[imagename] = {'bbox': bbox,\n",
    "                                 'difficult': difficult,\n",
    "                                 'det': det}\n",
    "\n",
    "    # read dets\n",
    "#     detfile = detpath.format(classname)\n",
    "#     with open(detfile, 'r') as f:\n",
    "#         lines = f.readlines()\n",
    "\n",
    "    if len(det_boxes):\n",
    "        BB = det_boxes[:,:4]\n",
    "        confidence = det_boxes[:,4]\n",
    "        image_ids = det_boxes[:,-1]        \n",
    "\n",
    "        # sort by confidence\n",
    "        sorted_ind = np.argsort(-confidence)\n",
    "        sorted_scores = np.sort(-confidence)\n",
    "        BB = BB[sorted_ind, :]\n",
    "        image_ids = [image_ids[x] for x in sorted_ind]\n",
    "\n",
    "        # go down dets and mark TPs and FPs\n",
    "        nd = len(image_ids)\n",
    "        tp = np.zeros(nd)\n",
    "        fp = np.zeros(nd)\n",
    "        for d in range(nd):\n",
    "            R = class_recs[image_ids[d]]\n",
    "            bb = BB[d, :].astype(float)\n",
    "            ovmax = -np.inf\n",
    "            BBGT = R['bbox'].astype(float)\n",
    "            if BBGT.size > 0:\n",
    "                # compute overlaps\n",
    "                # intersection\n",
    "                ixmin = np.maximum(BBGT[:, 0], bb[0])\n",
    "                iymin = np.maximum(BBGT[:, 1], bb[1])\n",
    "                ixmax = np.minimum(BBGT[:, 2], bb[2])\n",
    "                iymax = np.minimum(BBGT[:, 3], bb[3])\n",
    "                iw = np.maximum(ixmax - ixmin, 0.)\n",
    "                ih = np.maximum(iymax - iymin, 0.)\n",
    "                inters = iw * ih\n",
    "                uni = ((bb[2] - bb[0]) * (bb[3] - bb[1]) +\n",
    "                       (BBGT[:, 2] - BBGT[:, 0]) *\n",
    "                       (BBGT[:, 3] - BBGT[:, 1]) - inters)\n",
    "                overlaps = inters / uni\n",
    "                ovmax = np.max(overlaps)\n",
    "                jmax = np.argmax(overlaps)\n",
    "\n",
    "            if ovmax > ovthresh:\n",
    "                if not R['difficult'][jmax]:\n",
    "                    if not R['det'][jmax]:\n",
    "                        tp[d] = 1.\n",
    "                        R['det'][jmax] = 1\n",
    "                    else:\n",
    "                        fp[d] = 1.\n",
    "            else:\n",
    "                fp[d] = 1.\n",
    "\n",
    "        # compute precision recall\n",
    "        fp = np.cumsum(fp)\n",
    "        tp = np.cumsum(tp)\n",
    "        rec = tp / float(npos)\n",
    "        # avoid divide by zero in case the first detection matches a difficult\n",
    "        # ground truth\n",
    "        prec = tp / np.maximum(tp + fp, np.finfo(np.float64).eps)\n",
    "        ap = voc_ap(rec, prec, use_07_metric)\n",
    "    else:\n",
    "        rec = -1.\n",
    "        prec = -1.\n",
    "        ap = -1.\n",
    "\n",
    "    return rec, prec, ap\n"
   ]
  },
  {
   "cell_type": "code",
   "execution_count": null,
   "metadata": {},
   "outputs": [
    {
     "name": "stdout",
     "output_type": "stream",
     "text": [
      "Evaluating detections\n",
      "VOC07 metric? Yes\n",
      "> <ipython-input-11-f091404ba971>(14)<module>()\n",
      "-> rec, prec, ap = voc_eval(\n"
     ]
    },
    {
     "name": "stdin",
     "output_type": "stream",
     "text": [
      "(Pdb)  imgsetpath.format(set_type)\n"
     ]
    },
    {
     "name": "stdout",
     "output_type": "stream",
     "text": [
      "'test.txt'\n"
     ]
    },
    {
     "name": "stdin",
     "output_type": "stream",
     "text": [
      "(Pdb)  imgsetpath\n"
     ]
    },
    {
     "name": "stdout",
     "output_type": "stream",
     "text": [
      "'{:s}.txt'\n"
     ]
    },
    {
     "name": "stdin",
     "output_type": "stream",
     "text": [
      "(Pdb)  imgsetpath = os.path.join(VOC_ROOT, 'VOC2007', 'ImageSets', 'Main', '{:s}.txt')\n",
      "(Pdb)  imgsetpath\n"
     ]
    },
    {
     "name": "stdout",
     "output_type": "stream",
     "text": [
      "'{:s}.txt'\n"
     ]
    },
    {
     "name": "stdin",
     "output_type": "stream",
     "text": [
      "(Pdb)  os.path.join(VOC_ROOT, 'VOC2007', 'ImageSets', 'Main', '{:s}.txt')\n"
     ]
    },
    {
     "name": "stdout",
     "output_type": "stream",
     "text": [
      "'{:s}.txt'\n"
     ]
    },
    {
     "name": "stdin",
     "output_type": "stream",
     "text": [
      "(Pdb)  VOC_ROOT\n"
     ]
    },
    {
     "name": "stdout",
     "output_type": "stream",
     "text": [
      "'C:\\\\Users\\\\jjang\\\\Documents/github/ssd.pytorch/data/VOCdevkit/'\n"
     ]
    },
    {
     "name": "stdin",
     "output_type": "stream",
     "text": [
      "(Pdb)  os.path.join('data', 'VOC2007', 'ImageSets', 'Main', '{:s}.txt')\n"
     ]
    },
    {
     "name": "stdout",
     "output_type": "stream",
     "text": [
      "'{:s}.txt'\n"
     ]
    },
    {
     "name": "stdin",
     "output_type": "stream",
     "text": [
      "(Pdb)  set_type\n"
     ]
    },
    {
     "name": "stdout",
     "output_type": "stream",
     "text": [
      "'test'\n"
     ]
    }
   ],
   "source": [
    "print('Evaluating detections')\n",
    "\n",
    "cachedir = os.path.join(save_folder, 'annotations_cache')\n",
    "aps = []\n",
    "# The PASCAL VOC metric changed in 2010\n",
    "use_07_metric = True\n",
    "print('VOC07 metric? ' + ('Yes' if use_07_metric else 'No'))\n",
    "\n",
    "for i, cls in enumerate(labelmap):    \n",
    "    \n",
    "    import pdb\n",
    "    pdb.set_trace()\n",
    "    \n",
    "    rec, prec, ap = voc_eval(\n",
    "       all_boxes[i], annopath, imgsetpath.format(set_type), cls, cachedir,\n",
    "       ovthresh=0.5, use_07_metric=use_07_metric)\n",
    "    aps += [ap]\n",
    "    print('AP for {} = {:.4f}'.format(cls, ap))\n",
    "    with open(os.path.join(output_dir, cls + '_pr.pkl'), 'wb') as f:\n",
    "        pickle.dump({'rec': rec, 'prec': prec, 'ap': ap}, f)\n",
    "print('Mean AP = {:.4f}'.format(np.mean(aps)))\n",
    "print('~~~~~~~~')\n",
    "print('Results:')\n",
    "for ap in aps:\n",
    "    print('{:.3f}'.format(ap))\n",
    "print('{:.3f}'.format(np.mean(aps)))\n",
    "print('~~~~~~~~')\n",
    "print('')\n",
    "print('--------------------------------------------------------------')\n",
    "print('Results computed with the **unofficial** Python eval code.')\n",
    "print('Results should be very close to the official MATLAB eval code.')\n",
    "print('--------------------------------------------------------------')\n",
    "    \n",
    "    \n",
    "    \n",
    "    \n",
    "#     from data import VOC_CLASSES as labels\n",
    "    \n",
    "\n",
    "#     im = cv2.imread(dataset._imgpath % dataset.ids[i])\n",
    "\n",
    "#     plt.figure(figsize=(10,10))\n",
    "#     colors = plt.cm.hsv(np.linspace(0, 1, 21)).tolist()\n",
    "#     plt.imshow(im)  # plot the image for matplotlib\n",
    "#     currentAxis = plt.gca()\n",
    "\n",
    "#     import pdb\n",
    "#     pdb.set_trace()\n",
    "    \n",
    "#     detections = cls_dets.copy()\n",
    "#     # scale each detection back up to the image\n",
    "#     scale = torch.Tensor(im.shape[1::-1]).repeat(2)\n",
    "#     for i in range(detections.size(1)):\n",
    "#         j = 0\n",
    "#         while detections[0,i,j,0] >= 0.6:\n",
    "#             score = detections[0,i,j,0]\n",
    "#             label_name = labels[i-1]\n",
    "#             display_txt = '%s: %.2f'%(label_name, score)\n",
    "#             pt = (detections[0,i,j,1:]*scale).cpu().numpy()\n",
    "#             coords = (pt[0], pt[1]), pt[2]-pt[0]+1, pt[3]-pt[1]+1\n",
    "#             color = colors[i]\n",
    "#             currentAxis.add_patch(plt.Rectangle(*coords, fill=False, edgecolor=color, linewidth=2))\n",
    "#             currentAxis.text(pt[0], pt[1], display_txt, bbox={'facecolor':color, 'alpha':0.5})\n",
    "#             j+=1\n",
    "\n",
    "#     print('im_detect: {:d}/{:d} {:.3f}s'.format(i + 1,\n",
    "#                                                 num_images, detect_time))\n",
    "\n",
    "# with open(det_file, 'wb') as f:\n",
    "#     pickle.dump(all_boxes, f, pickle.HIGHEST_PROTOCOL)\n",
    "\n",
    "# print('Evaluating detections')\n",
    "# evaluate_detections(all_boxes, output_dir, dataset)"
   ]
  }
 ],
 "metadata": {
  "kernelspec": {
   "display_name": "Python 3",
   "language": "python",
   "name": "python3"
  },
  "language_info": {
   "codemirror_mode": {
    "name": "ipython",
    "version": 3
   },
   "file_extension": ".py",
   "mimetype": "text/x-python",
   "name": "python",
   "nbconvert_exporter": "python",
   "pygments_lexer": "ipython3",
   "version": "3.6.8"
  }
 },
 "nbformat": 4,
 "nbformat_minor": 2
}
